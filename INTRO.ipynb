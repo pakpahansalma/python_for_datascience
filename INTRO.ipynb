{
  "nbformat": 4,
  "nbformat_minor": 0,
  "metadata": {
    "colab": {
      "provenance": [],
      "authorship_tag": "ABX9TyPTo7sbADjon8uGKAnESHy6",
      "include_colab_link": true
    },
    "kernelspec": {
      "name": "python3",
      "display_name": "Python 3"
    },
    "language_info": {
      "name": "python"
    }
  },
  "cells": [
    {
      "cell_type": "markdown",
      "metadata": {
        "id": "view-in-github",
        "colab_type": "text"
      },
      "source": [
        "<a href=\"https://colab.research.google.com/github/pakpahansalma/python_for_datascience/blob/main/INTRO.ipynb\" target=\"_parent\"><img src=\"https://colab.research.google.com/assets/colab-badge.svg\" alt=\"Open In Colab\"/></a>"
      ]
    },
    {
      "cell_type": "code",
      "execution_count": 4,
      "metadata": {
        "id": "BxBPgOTAOdQF"
      },
      "outputs": [],
      "source": [
        "jam_kerja_per_hari = 8  # asumsi bekerja 8 jam per hari\n",
        "hari_kerja = 5 * 7      # total hari kerja selama 5 minggu\n",
        "gaji_per_jam = 40000     # asumsi gaji per jam dalam Rp"
      ]
    },
    {
      "cell_type": "code",
      "source": [
        "# 1. Pendapatan Budi sebelum pajak\n",
        "pendapatan_sebelum_pajak = gaji_per_jam * jam_kerja_per_hari * hari_kerja\n",
        "print(\"Pendapatan Budi sebelum pajak: Rp.\", pendapatan_sebelum_pajak)"
      ],
      "metadata": {
        "colab": {
          "base_uri": "https://localhost:8080/"
        },
        "id": "0WBhLCf4Oj-7",
        "outputId": "4910f820-f669-4d69-c992-768dffd02d1b"
      },
      "execution_count": 5,
      "outputs": [
        {
          "output_type": "stream",
          "name": "stdout",
          "text": [
            "Pendapatan Budi sebelum pajak: Rp. 11200000\n"
          ]
        }
      ]
    },
    {
      "cell_type": "code",
      "source": [
        "# 2. Pendapatan Budi setelah pajak\n",
        "pajak = 0.14\n",
        "pendapatan_setelah_pajak = pendapatan_sebelum_pajak * (1 - pajak)\n",
        "print(\"Pendapatan Budi setelah pajak: Rp.\", pendapatan_setelah_pajak)"
      ],
      "metadata": {
        "colab": {
          "base_uri": "https://localhost:8080/"
        },
        "id": "W_MoHkImO-vW",
        "outputId": "489233e0-1a7a-48b7-ce6b-19e4ec22f46a"
      },
      "execution_count": 6,
      "outputs": [
        {
          "output_type": "stream",
          "name": "stdout",
          "text": [
            "Pendapatan Budi setelah pajak: Rp. 9632000.0\n"
          ]
        }
      ]
    },
    {
      "cell_type": "code",
      "source": [
        "# 3. Uang yang akan Budi habiskan untuk membeli pakaian dan aksesoris\n",
        "pengeluaran_pakaian = pendapatan_setelah_pajak * 0.10\n",
        "print(\"Uang untuk membeli pakaian dan aksesoris: Rp.\", pengeluaran_pakaian)"
      ],
      "metadata": {
        "colab": {
          "base_uri": "https://localhost:8080/"
        },
        "id": "udzGpLPTPSG6",
        "outputId": "9fa25c13-f101-41a6-d0fd-1d406a755156"
      },
      "execution_count": 7,
      "outputs": [
        {
          "output_type": "stream",
          "name": "stdout",
          "text": [
            "Uang untuk membeli pakaian dan aksesoris: Rp. 963200.0\n"
          ]
        }
      ]
    },
    {
      "cell_type": "code",
      "source": [
        "# 4. Uang yang akan Budi habiskan untuk membeli alat tulis\n",
        "pengeluaran_alat_tulis = pendapatan_setelah_pajak * 0.01\n",
        "print(\"Uang untuk membeli alat tulis: Rp.\", pengeluaran_alat_tulis)"
      ],
      "metadata": {
        "colab": {
          "base_uri": "https://localhost:8080/"
        },
        "id": "lYLL3r4dPWgh",
        "outputId": "13f89486-90b7-4952-e5dd-5d8d23fde763"
      },
      "execution_count": 8,
      "outputs": [
        {
          "output_type": "stream",
          "name": "stdout",
          "text": [
            "Uang untuk membeli alat tulis: Rp. 96320.0\n"
          ]
        }
      ]
    },
    {
      "cell_type": "code",
      "source": [
        "#Sisa uang setelah pengeluaran\n",
        "sisa_uang = pendapatan_setelah_pajak - (pengeluaran_pakaian + pengeluaran_alat_tulis)\n",
        "print(\"Sisa uang setelah pengeluaran: Rp.\", sisa_uang)"
      ],
      "metadata": {
        "colab": {
          "base_uri": "https://localhost:8080/"
        },
        "id": "FiD5yImzPfj9",
        "outputId": "1afe4c1a-978f-408a-fc68-e974f61f5ce3"
      },
      "execution_count": 12,
      "outputs": [
        {
          "output_type": "stream",
          "name": "stdout",
          "text": [
            "Sisa uang setelah pengeluaran: Rp. 8572480.0\n"
          ]
        }
      ]
    },
    {
      "cell_type": "code",
      "source": [
        "# 6. Jumlah uang yang akan Budi sedekahkan\n",
        "jumlah_sedekah = sisa_uang * 0.25\n",
        "print(\"Jumlah uang yang akan Budi sedekahkan: Rp.\", jumlah_sedekah)"
      ],
      "metadata": {
        "colab": {
          "base_uri": "https://localhost:8080/"
        },
        "id": "-pVxTkPmQVeI",
        "outputId": "aadd6746-a356-4a85-c2a6-6aedd42a9651"
      },
      "execution_count": 13,
      "outputs": [
        {
          "output_type": "stream",
          "name": "stdout",
          "text": [
            "Jumlah uang yang akan Budi sedekahkan: Rp. 2143120.0\n"
          ]
        }
      ]
    },
    {
      "cell_type": "code",
      "source": [
        "# 7. Jumlah yang diterima anak yatim dan kaum dhuafa\n",
        "anak_yatim = jumlah_sedekah * 0.30\n",
        "kaum_dhuafa = jumlah_sedekah * 0.70\n",
        "print(\"Jumlah uang yang akan diterima anak yatim: Rp.\", anak_yatim)\n",
        "print(\"Jumlah uang yang akan diterima kaum dhuafa: Rp.\", kaum_dhuafa)"
      ],
      "metadata": {
        "colab": {
          "base_uri": "https://localhost:8080/"
        },
        "id": "rtl_2exsQcQq",
        "outputId": "7fd7f4ff-b768-4236-f04b-72a14801068d"
      },
      "execution_count": 14,
      "outputs": [
        {
          "output_type": "stream",
          "name": "stdout",
          "text": [
            "Jumlah uang yang akan diterima anak yatim: Rp. 642936.0\n",
            "Jumlah uang yang akan diterima kaum dhuafa: Rp. 1500184.0\n"
          ]
        }
      ]
    }
  ]
}